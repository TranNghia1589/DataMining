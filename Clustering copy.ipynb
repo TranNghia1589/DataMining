{
 "cells": [
  {
   "cell_type": "markdown",
   "metadata": {},
   "source": [
    "# 1. Loading and Reading Dataset:"
   ]
  },
  {
   "cell_type": "code",
   "execution_count": 28,
   "metadata": {},
   "outputs": [],
   "source": [
    "import pandas as pd\n",
    "import numpy as np\n",
    "import seaborn as sns\n",
    "import matplotlib.pyplot as plt"
   ]
  },
  {
   "cell_type": "code",
   "execution_count": 29,
   "metadata": {},
   "outputs": [],
   "source": [
    "# Hiển thị tất cả các hàng \n",
    "pd.set_option('display.max_rows', None)"
   ]
  },
  {
   "cell_type": "markdown",
   "metadata": {},
   "source": [
    "## - Import data"
   ]
  },
  {
   "cell_type": "code",
   "execution_count": 30,
   "metadata": {},
   "outputs": [],
   "source": [
    "Customers = pd.read_csv(r\"D:\\DataWarehouse and DataMining\\DataMining\\BaoCaoNhom\\Ecommerce\\olist_customers_dataset.csv\")"
   ]
  },
  {
   "cell_type": "code",
   "execution_count": 31,
   "metadata": {},
   "outputs": [],
   "source": [
    "Geolocation = pd.read_csv(r\"D:\\DataWarehouse and DataMining\\DataMining\\BaoCaoNhom\\Ecommerce\\olist_geolocation_dataset.csv\")"
   ]
  },
  {
   "cell_type": "code",
   "execution_count": 32,
   "metadata": {},
   "outputs": [],
   "source": [
    "Order_items = pd.read_csv(r\"D:\\DataWarehouse and DataMining\\DataMining\\BaoCaoNhom\\Ecommerce\\olist_order_items_dataset.csv\")"
   ]
  },
  {
   "cell_type": "code",
   "execution_count": 33,
   "metadata": {},
   "outputs": [],
   "source": [
    "Order_payments = pd.read_csv(r\"D:\\DataWarehouse and DataMining\\DataMining\\BaoCaoNhom\\Ecommerce\\olist_order_payments_dataset.csv\")"
   ]
  },
  {
   "cell_type": "code",
   "execution_count": 34,
   "metadata": {},
   "outputs": [],
   "source": [
    "Order_reviews = pd.read_csv(r\"D:\\DataWarehouse and DataMining\\DataMining\\BaoCaoNhom\\Ecommerce\\olist_order_reviews_dataset.csv\")"
   ]
  },
  {
   "cell_type": "code",
   "execution_count": 35,
   "metadata": {},
   "outputs": [],
   "source": [
    "Orders = pd.read_csv(r\"D:\\DataWarehouse and DataMining\\DataMining\\BaoCaoNhom\\Ecommerce\\olist_orders_dataset.csv\")"
   ]
  },
  {
   "cell_type": "code",
   "execution_count": 36,
   "metadata": {},
   "outputs": [],
   "source": [
    "Products = pd.read_csv(r\"D:\\DataWarehouse and DataMining\\DataMining\\BaoCaoNhom\\Ecommerce\\olist_products_dataset.csv\")"
   ]
  },
  {
   "cell_type": "code",
   "execution_count": 37,
   "metadata": {},
   "outputs": [],
   "source": [
    "Sellers = pd.read_csv(r\"D:\\DataWarehouse and DataMining\\DataMining\\BaoCaoNhom\\Ecommerce\\olist_sellers_dataset.csv\")"
   ]
  },
  {
   "cell_type": "code",
   "execution_count": 38,
   "metadata": {},
   "outputs": [],
   "source": [
    "Category = pd.read_csv(r\"D:\\DataWarehouse and DataMining\\DataMining\\BaoCaoNhom\\Ecommerce\\product_category_name_translation.csv\") "
   ]
  },
  {
   "cell_type": "code",
   "execution_count": 39,
   "metadata": {},
   "outputs": [
    {
     "data": {
      "text/html": [
       "<div>\n",
       "<style scoped>\n",
       "    .dataframe tbody tr th:only-of-type {\n",
       "        vertical-align: middle;\n",
       "    }\n",
       "\n",
       "    .dataframe tbody tr th {\n",
       "        vertical-align: top;\n",
       "    }\n",
       "\n",
       "    .dataframe thead th {\n",
       "        text-align: right;\n",
       "    }\n",
       "</style>\n",
       "<table border=\"1\" class=\"dataframe\">\n",
       "  <thead>\n",
       "    <tr style=\"text-align: right;\">\n",
       "      <th></th>\n",
       "      <th>order_id</th>\n",
       "      <th>customer_id</th>\n",
       "      <th>order_status</th>\n",
       "      <th>order_purchase_timestamp</th>\n",
       "      <th>order_approved_at</th>\n",
       "      <th>order_delivered_carrier_date</th>\n",
       "      <th>order_delivered_customer_date</th>\n",
       "      <th>order_estimated_delivery_date</th>\n",
       "    </tr>\n",
       "  </thead>\n",
       "  <tbody>\n",
       "    <tr>\n",
       "      <th>0</th>\n",
       "      <td>e481f51cbdc54678b7cc49136f2d6af7</td>\n",
       "      <td>9ef432eb6251297304e76186b10a928d</td>\n",
       "      <td>delivered</td>\n",
       "      <td>2017-10-02 10:56:33</td>\n",
       "      <td>2017-10-02 11:07:15</td>\n",
       "      <td>2017-10-04 19:55:00</td>\n",
       "      <td>2017-10-10 21:25:13</td>\n",
       "      <td>2017-10-18 00:00:00</td>\n",
       "    </tr>\n",
       "    <tr>\n",
       "      <th>1</th>\n",
       "      <td>53cdb2fc8bc7dce0b6741e2150273451</td>\n",
       "      <td>b0830fb4747a6c6d20dea0b8c802d7ef</td>\n",
       "      <td>delivered</td>\n",
       "      <td>2018-07-24 20:41:37</td>\n",
       "      <td>2018-07-26 03:24:27</td>\n",
       "      <td>2018-07-26 14:31:00</td>\n",
       "      <td>2018-08-07 15:27:45</td>\n",
       "      <td>2018-08-13 00:00:00</td>\n",
       "    </tr>\n",
       "    <tr>\n",
       "      <th>2</th>\n",
       "      <td>47770eb9100c2d0c44946d9cf07ec65d</td>\n",
       "      <td>41ce2a54c0b03bf3443c3d931a367089</td>\n",
       "      <td>delivered</td>\n",
       "      <td>2018-08-08 08:38:49</td>\n",
       "      <td>2018-08-08 08:55:23</td>\n",
       "      <td>2018-08-08 13:50:00</td>\n",
       "      <td>2018-08-17 18:06:29</td>\n",
       "      <td>2018-09-04 00:00:00</td>\n",
       "    </tr>\n",
       "    <tr>\n",
       "      <th>3</th>\n",
       "      <td>949d5b44dbf5de918fe9c16f97b45f8a</td>\n",
       "      <td>f88197465ea7920adcdbec7375364d82</td>\n",
       "      <td>delivered</td>\n",
       "      <td>2017-11-18 19:28:06</td>\n",
       "      <td>2017-11-18 19:45:59</td>\n",
       "      <td>2017-11-22 13:39:59</td>\n",
       "      <td>2017-12-02 00:28:42</td>\n",
       "      <td>2017-12-15 00:00:00</td>\n",
       "    </tr>\n",
       "    <tr>\n",
       "      <th>4</th>\n",
       "      <td>ad21c59c0840e6cb83a9ceb5573f8159</td>\n",
       "      <td>8ab97904e6daea8866dbdbc4fb7aad2c</td>\n",
       "      <td>delivered</td>\n",
       "      <td>2018-02-13 21:18:39</td>\n",
       "      <td>2018-02-13 22:20:29</td>\n",
       "      <td>2018-02-14 19:46:34</td>\n",
       "      <td>2018-02-16 18:17:02</td>\n",
       "      <td>2018-02-26 00:00:00</td>\n",
       "    </tr>\n",
       "  </tbody>\n",
       "</table>\n",
       "</div>"
      ],
      "text/plain": [
       "                           order_id                       customer_id  \\\n",
       "0  e481f51cbdc54678b7cc49136f2d6af7  9ef432eb6251297304e76186b10a928d   \n",
       "1  53cdb2fc8bc7dce0b6741e2150273451  b0830fb4747a6c6d20dea0b8c802d7ef   \n",
       "2  47770eb9100c2d0c44946d9cf07ec65d  41ce2a54c0b03bf3443c3d931a367089   \n",
       "3  949d5b44dbf5de918fe9c16f97b45f8a  f88197465ea7920adcdbec7375364d82   \n",
       "4  ad21c59c0840e6cb83a9ceb5573f8159  8ab97904e6daea8866dbdbc4fb7aad2c   \n",
       "\n",
       "  order_status order_purchase_timestamp    order_approved_at  \\\n",
       "0    delivered      2017-10-02 10:56:33  2017-10-02 11:07:15   \n",
       "1    delivered      2018-07-24 20:41:37  2018-07-26 03:24:27   \n",
       "2    delivered      2018-08-08 08:38:49  2018-08-08 08:55:23   \n",
       "3    delivered      2017-11-18 19:28:06  2017-11-18 19:45:59   \n",
       "4    delivered      2018-02-13 21:18:39  2018-02-13 22:20:29   \n",
       "\n",
       "  order_delivered_carrier_date order_delivered_customer_date  \\\n",
       "0          2017-10-04 19:55:00           2017-10-10 21:25:13   \n",
       "1          2018-07-26 14:31:00           2018-08-07 15:27:45   \n",
       "2          2018-08-08 13:50:00           2018-08-17 18:06:29   \n",
       "3          2017-11-22 13:39:59           2017-12-02 00:28:42   \n",
       "4          2018-02-14 19:46:34           2018-02-16 18:17:02   \n",
       "\n",
       "  order_estimated_delivery_date  \n",
       "0           2017-10-18 00:00:00  \n",
       "1           2018-08-13 00:00:00  \n",
       "2           2018-09-04 00:00:00  \n",
       "3           2017-12-15 00:00:00  \n",
       "4           2018-02-26 00:00:00  "
      ]
     },
     "execution_count": 39,
     "metadata": {},
     "output_type": "execute_result"
    }
   ],
   "source": [
    "Orders.head()"
   ]
  },
  {
   "cell_type": "code",
   "execution_count": 40,
   "metadata": {},
   "outputs": [],
   "source": [
    "Orders = Orders.drop(columns=['order_approved_at' , 'order_delivered_customer_date', 'order_delivered_carrier_date'])\n",
    "Products = Products.drop(columns=[\"product_weight_g\",\"product_name_lenght\", \"product_description_lenght\", \"product_photos_qty\", \"product_length_cm\", \"product_height_cm\", \"product_width_cm\", \"product_length_cm\"])\n",
    "Order_reviews = Order_reviews.drop(columns=['review_comment_title', 'review_comment_message'])"
   ]
  },
  {
   "cell_type": "code",
   "execution_count": 41,
   "metadata": {},
   "outputs": [
    {
     "name": "stdout",
     "output_type": "stream",
     "text": [
      "Customers [99441, 5]\n",
      "Customers ['customer_id', 'customer_unique_id', 'customer_zip_code_prefix', 'customer_city', 'customer_state']\n",
      "\n",
      "\n",
      "Order Items [112650, 7]\n",
      "Order Items ['order_id', 'order_item_id', 'product_id', 'seller_id', 'shipping_limit_date', 'price', 'freight_value']\n",
      "\n",
      "\n",
      "Payments [103886, 5]\n",
      "Payments ['order_id', 'payment_sequential', 'payment_type', 'payment_installments', 'payment_value']\n",
      "\n",
      "\n",
      "Orders [99441, 5]\n",
      "Orders ['order_id', 'customer_id', 'order_status', 'order_purchase_timestamp', 'order_estimated_delivery_date']\n",
      "\n",
      "\n",
      "Products [32951, 2]\n",
      "Products ['product_id', 'product_category_name']\n",
      "\n",
      "\n",
      "Sellers [3095, 4]\n",
      "Sellers ['seller_id', 'seller_zip_code_prefix', 'seller_city', 'seller_state']\n",
      "\n",
      "\n",
      "Reviews [99224, 5]\n",
      "Reviews ['review_id', 'order_id', 'review_score', 'review_creation_date', 'review_answer_timestamp']\n",
      "\n",
      "\n",
      "Geolocation [1000163, 5]\n",
      "Geolocation ['geolocation_zip_code_prefix', 'geolocation_lat', 'geolocation_lng', 'geolocation_city', 'geolocation_state']\n",
      "\n",
      "\n",
      "Category [71, 2]\n",
      "Category ['product_category_name', 'product_category_name_english']\n",
      "\n",
      "\n"
     ]
    }
   ],
   "source": [
    "dataset = {\n",
    "    'Customers': Customers,\n",
    "    'Order Items': Order_items,\n",
    "    'Payments': Order_payments,\n",
    "    'Orders': Orders,\n",
    "    'Products': Products,\n",
    "    'Sellers': Sellers,\n",
    "    'Reviews': Order_reviews,\n",
    "    'Geolocation': Geolocation,\n",
    "    'Category': Category\n",
    "}\n",
    "\n",
    "for x, y in dataset.items():\n",
    "    print(f'{x}', (list(y.shape)))\n",
    "    print(f'{x}', f'{list(y.columns)}')\n",
    "    print('\\n')"
   ]
  },
  {
   "cell_type": "code",
   "execution_count": 42,
   "metadata": {},
   "outputs": [
    {
     "name": "stdout",
     "output_type": "stream",
     "text": [
      "Customers: False\n",
      "Order Items: False\n",
      "Payments: False\n",
      "Orders: False\n",
      "Products: True\n",
      "Sellers: False\n",
      "Reviews: False\n",
      "Geolocation: False\n",
      "Category: False\n"
     ]
    }
   ],
   "source": [
    "# Kiểm tra dataset nào bị null\n",
    "for x, y in dataset.items():\n",
    "    print(f'{x}: {y.isnull().any().any()}')"
   ]
  },
  {
   "cell_type": "code",
   "execution_count": 43,
   "metadata": {},
   "outputs": [
    {
     "name": "stdout",
     "output_type": "stream",
     "text": [
      "Products [32951, 2] \n",
      "\n",
      "product_id                 0\n",
      "product_category_name    610\n",
      "dtype: int64\n",
      "\n"
     ]
    }
   ],
   "source": [
    "# Đếm số giá trị null\n",
    "for x, y in dataset.items():\n",
    "    if y.isnull().any().any():\n",
    "        print(f'{x}', (list(y.shape)),'\\n')\n",
    "        print(f'{y.isnull().sum()}\\n')"
   ]
  },
  {
   "cell_type": "markdown",
   "metadata": {},
   "source": [
    "## - Merge"
   ]
  },
  {
   "cell_type": "code",
   "execution_count": 44,
   "metadata": {},
   "outputs": [],
   "source": [
    "# Nối tên sản phẩm mới tương ứng\n",
    "Products = Products.merge(Category, on='product_category_name')\n",
    "Products = Products.rename(columns={'product_category_name_english':'product_category_name', 'product_category_name':'product_category_name_old'})\n",
    "Products = Products.drop(columns=['product_category_name_old'])"
   ]
  },
  {
   "cell_type": "code",
   "execution_count": 45,
   "metadata": {},
   "outputs": [
    {
     "data": {
      "text/html": [
       "<div>\n",
       "<style scoped>\n",
       "    .dataframe tbody tr th:only-of-type {\n",
       "        vertical-align: middle;\n",
       "    }\n",
       "\n",
       "    .dataframe tbody tr th {\n",
       "        vertical-align: top;\n",
       "    }\n",
       "\n",
       "    .dataframe thead th {\n",
       "        text-align: right;\n",
       "    }\n",
       "</style>\n",
       "<table border=\"1\" class=\"dataframe\">\n",
       "  <thead>\n",
       "    <tr style=\"text-align: right;\">\n",
       "      <th></th>\n",
       "      <th>product_id</th>\n",
       "      <th>product_category_name</th>\n",
       "    </tr>\n",
       "  </thead>\n",
       "  <tbody>\n",
       "    <tr>\n",
       "      <th>0</th>\n",
       "      <td>1e9e8ef04dbcff4541ed26657ea517e5</td>\n",
       "      <td>perfumery</td>\n",
       "    </tr>\n",
       "    <tr>\n",
       "      <th>1</th>\n",
       "      <td>3aa071139cb16b67ca9e5dea641aaa2f</td>\n",
       "      <td>art</td>\n",
       "    </tr>\n",
       "    <tr>\n",
       "      <th>2</th>\n",
       "      <td>96bd76ec8810374ed1b65e291975717f</td>\n",
       "      <td>sports_leisure</td>\n",
       "    </tr>\n",
       "    <tr>\n",
       "      <th>3</th>\n",
       "      <td>cef67bcfe19066a932b7673e239eb23d</td>\n",
       "      <td>baby</td>\n",
       "    </tr>\n",
       "    <tr>\n",
       "      <th>4</th>\n",
       "      <td>9dc1a7de274444849c219cff195d0b71</td>\n",
       "      <td>housewares</td>\n",
       "    </tr>\n",
       "  </tbody>\n",
       "</table>\n",
       "</div>"
      ],
      "text/plain": [
       "                         product_id product_category_name\n",
       "0  1e9e8ef04dbcff4541ed26657ea517e5             perfumery\n",
       "1  3aa071139cb16b67ca9e5dea641aaa2f                   art\n",
       "2  96bd76ec8810374ed1b65e291975717f        sports_leisure\n",
       "3  cef67bcfe19066a932b7673e239eb23d                  baby\n",
       "4  9dc1a7de274444849c219cff195d0b71            housewares"
      ]
     },
     "execution_count": 45,
     "metadata": {},
     "output_type": "execute_result"
    }
   ],
   "source": [
    "Products.head()"
   ]
  },
  {
   "cell_type": "code",
   "execution_count": 46,
   "metadata": {},
   "outputs": [
    {
     "name": "stdout",
     "output_type": "stream",
     "text": [
      "(117601, 11)\n",
      "(115878, 12)\n",
      "(115878, 15)\n",
      "(115609, 19)\n",
      "(115609, 23)\n",
      "(115609, 27)\n"
     ]
    }
   ],
   "source": [
    "# Nối các dataset còn lại\n",
    "df1 = Order_items.merge(Order_payments, on='order_id')\n",
    "print(df1.shape)\n",
    "df2 = df1.merge(Products, on='product_id')\n",
    "print(df2.shape)\n",
    "df3 = df2.merge(Sellers , on='seller_id')\n",
    "print(df3.shape)\n",
    "df4 = df3.merge(Order_reviews, on='order_id')\n",
    "print(df4.shape)\n",
    "df5 = df4.merge(Orders, on='order_id')\n",
    "print(df5.shape)\n",
    "Olist = df5.merge(Customers , on='customer_id')\n",
    "print(Olist.shape)"
   ]
  },
  {
   "cell_type": "code",
   "execution_count": 47,
   "metadata": {},
   "outputs": [
    {
     "data": {
      "text/html": [
       "<div>\n",
       "<style scoped>\n",
       "    .dataframe tbody tr th:only-of-type {\n",
       "        vertical-align: middle;\n",
       "    }\n",
       "\n",
       "    .dataframe tbody tr th {\n",
       "        vertical-align: top;\n",
       "    }\n",
       "\n",
       "    .dataframe thead th {\n",
       "        text-align: right;\n",
       "    }\n",
       "</style>\n",
       "<table border=\"1\" class=\"dataframe\">\n",
       "  <thead>\n",
       "    <tr style=\"text-align: right;\">\n",
       "      <th></th>\n",
       "      <th>order_id</th>\n",
       "      <th>order_item_id</th>\n",
       "      <th>product_id</th>\n",
       "      <th>seller_id</th>\n",
       "      <th>shipping_limit_date</th>\n",
       "      <th>price</th>\n",
       "      <th>freight_value</th>\n",
       "      <th>payment_sequential</th>\n",
       "      <th>payment_type</th>\n",
       "      <th>payment_installments</th>\n",
       "      <th>...</th>\n",
       "      <th>review_creation_date</th>\n",
       "      <th>review_answer_timestamp</th>\n",
       "      <th>customer_id</th>\n",
       "      <th>order_status</th>\n",
       "      <th>order_purchase_timestamp</th>\n",
       "      <th>order_estimated_delivery_date</th>\n",
       "      <th>customer_unique_id</th>\n",
       "      <th>customer_zip_code_prefix</th>\n",
       "      <th>customer_city</th>\n",
       "      <th>customer_state</th>\n",
       "    </tr>\n",
       "  </thead>\n",
       "  <tbody>\n",
       "    <tr>\n",
       "      <th>0</th>\n",
       "      <td>00010242fe8c5a6d1ba2dd792cb16214</td>\n",
       "      <td>1</td>\n",
       "      <td>4244733e06e7ecb4970a6e2683c13e61</td>\n",
       "      <td>48436dade18ac8b2bce089ec2a041202</td>\n",
       "      <td>2017-09-19 09:45:35</td>\n",
       "      <td>58.90</td>\n",
       "      <td>13.29</td>\n",
       "      <td>1</td>\n",
       "      <td>credit_card</td>\n",
       "      <td>2</td>\n",
       "      <td>...</td>\n",
       "      <td>2017-09-21 00:00:00</td>\n",
       "      <td>2017-09-22 10:57:03</td>\n",
       "      <td>3ce436f183e68e07877b285a838db11a</td>\n",
       "      <td>delivered</td>\n",
       "      <td>2017-09-13 08:59:02</td>\n",
       "      <td>2017-09-29 00:00:00</td>\n",
       "      <td>871766c5855e863f6eccc05f988b23cb</td>\n",
       "      <td>28013</td>\n",
       "      <td>campos dos goytacazes</td>\n",
       "      <td>RJ</td>\n",
       "    </tr>\n",
       "    <tr>\n",
       "      <th>1</th>\n",
       "      <td>00018f77f2f0320c557190d7a144bdd3</td>\n",
       "      <td>1</td>\n",
       "      <td>e5f2d52b802189ee658865ca93d83a8f</td>\n",
       "      <td>dd7ddc04e1b6c2c614352b383efe2d36</td>\n",
       "      <td>2017-05-03 11:05:13</td>\n",
       "      <td>239.90</td>\n",
       "      <td>19.93</td>\n",
       "      <td>1</td>\n",
       "      <td>credit_card</td>\n",
       "      <td>3</td>\n",
       "      <td>...</td>\n",
       "      <td>2017-05-13 00:00:00</td>\n",
       "      <td>2017-05-15 11:34:13</td>\n",
       "      <td>f6dd3ec061db4e3987629fe6b26e5cce</td>\n",
       "      <td>delivered</td>\n",
       "      <td>2017-04-26 10:53:06</td>\n",
       "      <td>2017-05-15 00:00:00</td>\n",
       "      <td>eb28e67c4c0b83846050ddfb8a35d051</td>\n",
       "      <td>15775</td>\n",
       "      <td>santa fe do sul</td>\n",
       "      <td>SP</td>\n",
       "    </tr>\n",
       "    <tr>\n",
       "      <th>2</th>\n",
       "      <td>000229ec398224ef6ca0657da4fc703e</td>\n",
       "      <td>1</td>\n",
       "      <td>c777355d18b72b67abbeef9df44fd0fd</td>\n",
       "      <td>5b51032eddd242adc84c38acab88f23d</td>\n",
       "      <td>2018-01-18 14:48:30</td>\n",
       "      <td>199.00</td>\n",
       "      <td>17.87</td>\n",
       "      <td>1</td>\n",
       "      <td>credit_card</td>\n",
       "      <td>5</td>\n",
       "      <td>...</td>\n",
       "      <td>2018-01-23 00:00:00</td>\n",
       "      <td>2018-01-23 16:06:31</td>\n",
       "      <td>6489ae5e4333f3693df5ad4372dab6d3</td>\n",
       "      <td>delivered</td>\n",
       "      <td>2018-01-14 14:33:31</td>\n",
       "      <td>2018-02-05 00:00:00</td>\n",
       "      <td>3818d81c6709e39d06b2738a8d3a2474</td>\n",
       "      <td>35661</td>\n",
       "      <td>para de minas</td>\n",
       "      <td>MG</td>\n",
       "    </tr>\n",
       "    <tr>\n",
       "      <th>3</th>\n",
       "      <td>00024acbcdf0a6daa1e931b038114c75</td>\n",
       "      <td>1</td>\n",
       "      <td>7634da152a4610f1595efa32f14722fc</td>\n",
       "      <td>9d7a1d34a5052409006425275ba1c2b4</td>\n",
       "      <td>2018-08-15 10:10:18</td>\n",
       "      <td>12.99</td>\n",
       "      <td>12.79</td>\n",
       "      <td>1</td>\n",
       "      <td>credit_card</td>\n",
       "      <td>2</td>\n",
       "      <td>...</td>\n",
       "      <td>2018-08-15 00:00:00</td>\n",
       "      <td>2018-08-15 16:39:01</td>\n",
       "      <td>d4eb9395c8c0431ee92fce09860c5a06</td>\n",
       "      <td>delivered</td>\n",
       "      <td>2018-08-08 10:00:35</td>\n",
       "      <td>2018-08-20 00:00:00</td>\n",
       "      <td>af861d436cfc08b2c2ddefd0ba074622</td>\n",
       "      <td>12952</td>\n",
       "      <td>atibaia</td>\n",
       "      <td>SP</td>\n",
       "    </tr>\n",
       "    <tr>\n",
       "      <th>4</th>\n",
       "      <td>00042b26cf59d7ce69dfabb4e55b4fd9</td>\n",
       "      <td>1</td>\n",
       "      <td>ac6c3623068f30de03045865e4e10089</td>\n",
       "      <td>df560393f3a51e74553ab94004ba5c87</td>\n",
       "      <td>2017-02-13 13:57:51</td>\n",
       "      <td>199.90</td>\n",
       "      <td>18.14</td>\n",
       "      <td>1</td>\n",
       "      <td>credit_card</td>\n",
       "      <td>3</td>\n",
       "      <td>...</td>\n",
       "      <td>2017-03-02 00:00:00</td>\n",
       "      <td>2017-03-03 10:54:59</td>\n",
       "      <td>58dbd0b2d70206bf40e62cd34e84d795</td>\n",
       "      <td>delivered</td>\n",
       "      <td>2017-02-04 13:57:51</td>\n",
       "      <td>2017-03-17 00:00:00</td>\n",
       "      <td>64b576fb70d441e8f1b2d7d446e483c5</td>\n",
       "      <td>13226</td>\n",
       "      <td>varzea paulista</td>\n",
       "      <td>SP</td>\n",
       "    </tr>\n",
       "  </tbody>\n",
       "</table>\n",
       "<p>5 rows × 27 columns</p>\n",
       "</div>"
      ],
      "text/plain": [
       "                           order_id  order_item_id  \\\n",
       "0  00010242fe8c5a6d1ba2dd792cb16214              1   \n",
       "1  00018f77f2f0320c557190d7a144bdd3              1   \n",
       "2  000229ec398224ef6ca0657da4fc703e              1   \n",
       "3  00024acbcdf0a6daa1e931b038114c75              1   \n",
       "4  00042b26cf59d7ce69dfabb4e55b4fd9              1   \n",
       "\n",
       "                         product_id                         seller_id  \\\n",
       "0  4244733e06e7ecb4970a6e2683c13e61  48436dade18ac8b2bce089ec2a041202   \n",
       "1  e5f2d52b802189ee658865ca93d83a8f  dd7ddc04e1b6c2c614352b383efe2d36   \n",
       "2  c777355d18b72b67abbeef9df44fd0fd  5b51032eddd242adc84c38acab88f23d   \n",
       "3  7634da152a4610f1595efa32f14722fc  9d7a1d34a5052409006425275ba1c2b4   \n",
       "4  ac6c3623068f30de03045865e4e10089  df560393f3a51e74553ab94004ba5c87   \n",
       "\n",
       "   shipping_limit_date   price  freight_value  payment_sequential  \\\n",
       "0  2017-09-19 09:45:35   58.90          13.29                   1   \n",
       "1  2017-05-03 11:05:13  239.90          19.93                   1   \n",
       "2  2018-01-18 14:48:30  199.00          17.87                   1   \n",
       "3  2018-08-15 10:10:18   12.99          12.79                   1   \n",
       "4  2017-02-13 13:57:51  199.90          18.14                   1   \n",
       "\n",
       "  payment_type  payment_installments  ...  review_creation_date  \\\n",
       "0  credit_card                     2  ...   2017-09-21 00:00:00   \n",
       "1  credit_card                     3  ...   2017-05-13 00:00:00   \n",
       "2  credit_card                     5  ...   2018-01-23 00:00:00   \n",
       "3  credit_card                     2  ...   2018-08-15 00:00:00   \n",
       "4  credit_card                     3  ...   2017-03-02 00:00:00   \n",
       "\n",
       "  review_answer_timestamp                       customer_id order_status  \\\n",
       "0     2017-09-22 10:57:03  3ce436f183e68e07877b285a838db11a    delivered   \n",
       "1     2017-05-15 11:34:13  f6dd3ec061db4e3987629fe6b26e5cce    delivered   \n",
       "2     2018-01-23 16:06:31  6489ae5e4333f3693df5ad4372dab6d3    delivered   \n",
       "3     2018-08-15 16:39:01  d4eb9395c8c0431ee92fce09860c5a06    delivered   \n",
       "4     2017-03-03 10:54:59  58dbd0b2d70206bf40e62cd34e84d795    delivered   \n",
       "\n",
       "  order_purchase_timestamp order_estimated_delivery_date  \\\n",
       "0      2017-09-13 08:59:02           2017-09-29 00:00:00   \n",
       "1      2017-04-26 10:53:06           2017-05-15 00:00:00   \n",
       "2      2018-01-14 14:33:31           2018-02-05 00:00:00   \n",
       "3      2018-08-08 10:00:35           2018-08-20 00:00:00   \n",
       "4      2017-02-04 13:57:51           2017-03-17 00:00:00   \n",
       "\n",
       "                 customer_unique_id customer_zip_code_prefix  \\\n",
       "0  871766c5855e863f6eccc05f988b23cb                    28013   \n",
       "1  eb28e67c4c0b83846050ddfb8a35d051                    15775   \n",
       "2  3818d81c6709e39d06b2738a8d3a2474                    35661   \n",
       "3  af861d436cfc08b2c2ddefd0ba074622                    12952   \n",
       "4  64b576fb70d441e8f1b2d7d446e483c5                    13226   \n",
       "\n",
       "           customer_city customer_state  \n",
       "0  campos dos goytacazes             RJ  \n",
       "1        santa fe do sul             SP  \n",
       "2          para de minas             MG  \n",
       "3                atibaia             SP  \n",
       "4        varzea paulista             SP  \n",
       "\n",
       "[5 rows x 27 columns]"
      ]
     },
     "execution_count": 47,
     "metadata": {},
     "output_type": "execute_result"
    }
   ],
   "source": [
    "Olist.head()"
   ]
  },
  {
   "cell_type": "markdown",
   "metadata": {},
   "source": [
    "## - Tiền xử lý dữ liệu"
   ]
  },
  {
   "cell_type": "code",
   "execution_count": 48,
   "metadata": {},
   "outputs": [],
   "source": [
    "# Chuyển đổi định dạng ngày giờ cho cột thời gian\n",
    "date_columns = ['shipping_limit_date', 'review_creation_date', 'review_answer_timestamp', 'order_purchase_timestamp', 'order_estimated_delivery_date']\n",
    "for col in date_columns:\n",
    "    Olist[col] = pd.to_datetime(Olist[col], format='%Y-%m-%d %H:%M:%S')"
   ]
  },
  {
   "cell_type": "code",
   "execution_count": 49,
   "metadata": {},
   "outputs": [],
   "source": [
    "# cleaning up name columns, and engineering new/essential columns\n",
    "Olist['customer_city'] = Olist['customer_city'].str.title()\n",
    "Olist['seller_city'] = Olist['seller_city'].str.title()\n",
    "Olist['product_category_name'] = Olist['product_category_name'].str.title()\n",
    "Olist['payment_type'] = Olist['payment_type'].str.replace('_', ' ').str.title()\n",
    "Olist['product_category_name'] = Olist['product_category_name'].str.replace('_', ' ')\n",
    "Olist['review_response_time'] = (Olist['review_answer_timestamp'] - Olist['review_creation_date']).dt.days\n",
    "#Olist['delivery_against_estimated'] = (Olist['order_estimated_delivery_date'] - Olist['order_delivered_customer_date']).dt.days\n",
    "#Olist['product_size_cm'] = Olist['product_length_cm'] * Olist['product_height_cm'] * Olist['product_width_cm']\n",
    "Olist['order_purchase_year'] = Olist.order_purchase_timestamp.apply(lambda x: x.year)\n",
    "Olist['order_purchase_month'] = Olist.order_purchase_timestamp.apply(lambda x: x.month)\n",
    "Olist['order_purchase_dayofweek'] = Olist.order_purchase_timestamp.apply(lambda x: x.dayofweek)\n",
    "Olist['order_purchase_hour'] = Olist.order_purchase_timestamp.apply(lambda x: x.hour)\n",
    "Olist['order_purchase_day'] = Olist['order_purchase_dayofweek'].map({0:'Mon',1:'Tue',2:'Wed',3:'Thu',4:'Fri',5:'Sat',6:'Sun'})\n",
    "Olist['order_purchase_mon'] = Olist.order_purchase_timestamp.apply(lambda x: x.month).map({1:'Jan',2:'Feb',3:'Mar',4:'Apr',5:'May',6:'Jun',7:'Jul',8:'Aug',9:'Sep',10:'Oct',11:'Nov',12:'Dec'})"
   ]
  },
  {
   "cell_type": "code",
   "execution_count": 50,
   "metadata": {},
   "outputs": [
    {
     "data": {
      "text/html": [
       "<div>\n",
       "<style scoped>\n",
       "    .dataframe tbody tr th:only-of-type {\n",
       "        vertical-align: middle;\n",
       "    }\n",
       "\n",
       "    .dataframe tbody tr th {\n",
       "        vertical-align: top;\n",
       "    }\n",
       "\n",
       "    .dataframe thead th {\n",
       "        text-align: right;\n",
       "    }\n",
       "</style>\n",
       "<table border=\"1\" class=\"dataframe\">\n",
       "  <thead>\n",
       "    <tr style=\"text-align: right;\">\n",
       "      <th></th>\n",
       "      <th>order_id</th>\n",
       "      <th>order_item_id</th>\n",
       "      <th>product_id</th>\n",
       "      <th>seller_id</th>\n",
       "      <th>shipping_limit_date</th>\n",
       "      <th>price</th>\n",
       "      <th>freight_value</th>\n",
       "      <th>payment_sequential</th>\n",
       "      <th>payment_type</th>\n",
       "      <th>payment_installments</th>\n",
       "      <th>...</th>\n",
       "      <th>customer_zip_code_prefix</th>\n",
       "      <th>customer_city</th>\n",
       "      <th>customer_state</th>\n",
       "      <th>review_response_time</th>\n",
       "      <th>order_purchase_year</th>\n",
       "      <th>order_purchase_month</th>\n",
       "      <th>order_purchase_dayofweek</th>\n",
       "      <th>order_purchase_hour</th>\n",
       "      <th>order_purchase_day</th>\n",
       "      <th>order_purchase_mon</th>\n",
       "    </tr>\n",
       "  </thead>\n",
       "  <tbody>\n",
       "    <tr>\n",
       "      <th>0</th>\n",
       "      <td>00010242fe8c5a6d1ba2dd792cb16214</td>\n",
       "      <td>1</td>\n",
       "      <td>4244733e06e7ecb4970a6e2683c13e61</td>\n",
       "      <td>48436dade18ac8b2bce089ec2a041202</td>\n",
       "      <td>2017-09-19 09:45:35</td>\n",
       "      <td>58.90</td>\n",
       "      <td>13.29</td>\n",
       "      <td>1</td>\n",
       "      <td>Credit Card</td>\n",
       "      <td>2</td>\n",
       "      <td>...</td>\n",
       "      <td>28013</td>\n",
       "      <td>Campos Dos Goytacazes</td>\n",
       "      <td>RJ</td>\n",
       "      <td>1</td>\n",
       "      <td>2017</td>\n",
       "      <td>9</td>\n",
       "      <td>2</td>\n",
       "      <td>8</td>\n",
       "      <td>Wed</td>\n",
       "      <td>Sep</td>\n",
       "    </tr>\n",
       "    <tr>\n",
       "      <th>1</th>\n",
       "      <td>00018f77f2f0320c557190d7a144bdd3</td>\n",
       "      <td>1</td>\n",
       "      <td>e5f2d52b802189ee658865ca93d83a8f</td>\n",
       "      <td>dd7ddc04e1b6c2c614352b383efe2d36</td>\n",
       "      <td>2017-05-03 11:05:13</td>\n",
       "      <td>239.90</td>\n",
       "      <td>19.93</td>\n",
       "      <td>1</td>\n",
       "      <td>Credit Card</td>\n",
       "      <td>3</td>\n",
       "      <td>...</td>\n",
       "      <td>15775</td>\n",
       "      <td>Santa Fe Do Sul</td>\n",
       "      <td>SP</td>\n",
       "      <td>2</td>\n",
       "      <td>2017</td>\n",
       "      <td>4</td>\n",
       "      <td>2</td>\n",
       "      <td>10</td>\n",
       "      <td>Wed</td>\n",
       "      <td>Apr</td>\n",
       "    </tr>\n",
       "    <tr>\n",
       "      <th>2</th>\n",
       "      <td>000229ec398224ef6ca0657da4fc703e</td>\n",
       "      <td>1</td>\n",
       "      <td>c777355d18b72b67abbeef9df44fd0fd</td>\n",
       "      <td>5b51032eddd242adc84c38acab88f23d</td>\n",
       "      <td>2018-01-18 14:48:30</td>\n",
       "      <td>199.00</td>\n",
       "      <td>17.87</td>\n",
       "      <td>1</td>\n",
       "      <td>Credit Card</td>\n",
       "      <td>5</td>\n",
       "      <td>...</td>\n",
       "      <td>35661</td>\n",
       "      <td>Para De Minas</td>\n",
       "      <td>MG</td>\n",
       "      <td>0</td>\n",
       "      <td>2018</td>\n",
       "      <td>1</td>\n",
       "      <td>6</td>\n",
       "      <td>14</td>\n",
       "      <td>Sun</td>\n",
       "      <td>Jan</td>\n",
       "    </tr>\n",
       "    <tr>\n",
       "      <th>3</th>\n",
       "      <td>00024acbcdf0a6daa1e931b038114c75</td>\n",
       "      <td>1</td>\n",
       "      <td>7634da152a4610f1595efa32f14722fc</td>\n",
       "      <td>9d7a1d34a5052409006425275ba1c2b4</td>\n",
       "      <td>2018-08-15 10:10:18</td>\n",
       "      <td>12.99</td>\n",
       "      <td>12.79</td>\n",
       "      <td>1</td>\n",
       "      <td>Credit Card</td>\n",
       "      <td>2</td>\n",
       "      <td>...</td>\n",
       "      <td>12952</td>\n",
       "      <td>Atibaia</td>\n",
       "      <td>SP</td>\n",
       "      <td>0</td>\n",
       "      <td>2018</td>\n",
       "      <td>8</td>\n",
       "      <td>2</td>\n",
       "      <td>10</td>\n",
       "      <td>Wed</td>\n",
       "      <td>Aug</td>\n",
       "    </tr>\n",
       "    <tr>\n",
       "      <th>4</th>\n",
       "      <td>00042b26cf59d7ce69dfabb4e55b4fd9</td>\n",
       "      <td>1</td>\n",
       "      <td>ac6c3623068f30de03045865e4e10089</td>\n",
       "      <td>df560393f3a51e74553ab94004ba5c87</td>\n",
       "      <td>2017-02-13 13:57:51</td>\n",
       "      <td>199.90</td>\n",
       "      <td>18.14</td>\n",
       "      <td>1</td>\n",
       "      <td>Credit Card</td>\n",
       "      <td>3</td>\n",
       "      <td>...</td>\n",
       "      <td>13226</td>\n",
       "      <td>Varzea Paulista</td>\n",
       "      <td>SP</td>\n",
       "      <td>1</td>\n",
       "      <td>2017</td>\n",
       "      <td>2</td>\n",
       "      <td>5</td>\n",
       "      <td>13</td>\n",
       "      <td>Sat</td>\n",
       "      <td>Feb</td>\n",
       "    </tr>\n",
       "  </tbody>\n",
       "</table>\n",
       "<p>5 rows × 34 columns</p>\n",
       "</div>"
      ],
      "text/plain": [
       "                           order_id  order_item_id  \\\n",
       "0  00010242fe8c5a6d1ba2dd792cb16214              1   \n",
       "1  00018f77f2f0320c557190d7a144bdd3              1   \n",
       "2  000229ec398224ef6ca0657da4fc703e              1   \n",
       "3  00024acbcdf0a6daa1e931b038114c75              1   \n",
       "4  00042b26cf59d7ce69dfabb4e55b4fd9              1   \n",
       "\n",
       "                         product_id                         seller_id  \\\n",
       "0  4244733e06e7ecb4970a6e2683c13e61  48436dade18ac8b2bce089ec2a041202   \n",
       "1  e5f2d52b802189ee658865ca93d83a8f  dd7ddc04e1b6c2c614352b383efe2d36   \n",
       "2  c777355d18b72b67abbeef9df44fd0fd  5b51032eddd242adc84c38acab88f23d   \n",
       "3  7634da152a4610f1595efa32f14722fc  9d7a1d34a5052409006425275ba1c2b4   \n",
       "4  ac6c3623068f30de03045865e4e10089  df560393f3a51e74553ab94004ba5c87   \n",
       "\n",
       "  shipping_limit_date   price  freight_value  payment_sequential payment_type  \\\n",
       "0 2017-09-19 09:45:35   58.90          13.29                   1  Credit Card   \n",
       "1 2017-05-03 11:05:13  239.90          19.93                   1  Credit Card   \n",
       "2 2018-01-18 14:48:30  199.00          17.87                   1  Credit Card   \n",
       "3 2018-08-15 10:10:18   12.99          12.79                   1  Credit Card   \n",
       "4 2017-02-13 13:57:51  199.90          18.14                   1  Credit Card   \n",
       "\n",
       "   payment_installments  ...  customer_zip_code_prefix          customer_city  \\\n",
       "0                     2  ...                     28013  Campos Dos Goytacazes   \n",
       "1                     3  ...                     15775        Santa Fe Do Sul   \n",
       "2                     5  ...                     35661          Para De Minas   \n",
       "3                     2  ...                     12952                Atibaia   \n",
       "4                     3  ...                     13226        Varzea Paulista   \n",
       "\n",
       "   customer_state review_response_time order_purchase_year  \\\n",
       "0              RJ                    1                2017   \n",
       "1              SP                    2                2017   \n",
       "2              MG                    0                2018   \n",
       "3              SP                    0                2018   \n",
       "4              SP                    1                2017   \n",
       "\n",
       "  order_purchase_month  order_purchase_dayofweek order_purchase_hour  \\\n",
       "0                    9                         2                   8   \n",
       "1                    4                         2                  10   \n",
       "2                    1                         6                  14   \n",
       "3                    8                         2                  10   \n",
       "4                    2                         5                  13   \n",
       "\n",
       "  order_purchase_day order_purchase_mon  \n",
       "0                Wed                Sep  \n",
       "1                Wed                Apr  \n",
       "2                Sun                Jan  \n",
       "3                Wed                Aug  \n",
       "4                Sat                Feb  \n",
       "\n",
       "[5 rows x 34 columns]"
      ]
     },
     "execution_count": 50,
     "metadata": {},
     "output_type": "execute_result"
    }
   ],
   "source": [
    "Olist.head()"
   ]
  },
  {
   "cell_type": "code",
   "execution_count": 51,
   "metadata": {},
   "outputs": [],
   "source": [
    "Olist.to_csv('Olist_Master.csv', index=False)"
   ]
  },
  {
   "cell_type": "code",
   "execution_count": 52,
   "metadata": {},
   "outputs": [
    {
     "data": {
      "text/plain": [
       "(115609, 8)"
      ]
     },
     "execution_count": 52,
     "metadata": {},
     "output_type": "execute_result"
    }
   ],
   "source": [
    "features = ['order_id', 'order_status', 'order_purchase_timestamp',\n",
    "       'payment_value', 'customer_unique_id', 'customer_zip_code_prefix',\n",
    "       'customer_city', 'customer_state']\n",
    "Olist_db = Olist[features]\n",
    "Olist_db.shape"
   ]
  },
  {
   "cell_type": "code",
   "execution_count": 53,
   "metadata": {},
   "outputs": [
    {
     "data": {
      "text/html": [
       "<div>\n",
       "<style scoped>\n",
       "    .dataframe tbody tr th:only-of-type {\n",
       "        vertical-align: middle;\n",
       "    }\n",
       "\n",
       "    .dataframe tbody tr th {\n",
       "        vertical-align: top;\n",
       "    }\n",
       "\n",
       "    .dataframe thead th {\n",
       "        text-align: right;\n",
       "    }\n",
       "</style>\n",
       "<table border=\"1\" class=\"dataframe\">\n",
       "  <thead>\n",
       "    <tr style=\"text-align: right;\">\n",
       "      <th></th>\n",
       "      <th>order_id</th>\n",
       "      <th>order_status</th>\n",
       "      <th>order_purchase_timestamp</th>\n",
       "      <th>payment_value</th>\n",
       "      <th>customer_unique_id</th>\n",
       "      <th>customer_zip_code_prefix</th>\n",
       "      <th>customer_city</th>\n",
       "      <th>customer_state</th>\n",
       "    </tr>\n",
       "  </thead>\n",
       "  <tbody>\n",
       "    <tr>\n",
       "      <th>0</th>\n",
       "      <td>00010242fe8c5a6d1ba2dd792cb16214</td>\n",
       "      <td>delivered</td>\n",
       "      <td>2017-09-13 08:59:02</td>\n",
       "      <td>72.19</td>\n",
       "      <td>871766c5855e863f6eccc05f988b23cb</td>\n",
       "      <td>28013</td>\n",
       "      <td>Campos Dos Goytacazes</td>\n",
       "      <td>RJ</td>\n",
       "    </tr>\n",
       "    <tr>\n",
       "      <th>1</th>\n",
       "      <td>00018f77f2f0320c557190d7a144bdd3</td>\n",
       "      <td>delivered</td>\n",
       "      <td>2017-04-26 10:53:06</td>\n",
       "      <td>259.83</td>\n",
       "      <td>eb28e67c4c0b83846050ddfb8a35d051</td>\n",
       "      <td>15775</td>\n",
       "      <td>Santa Fe Do Sul</td>\n",
       "      <td>SP</td>\n",
       "    </tr>\n",
       "    <tr>\n",
       "      <th>2</th>\n",
       "      <td>000229ec398224ef6ca0657da4fc703e</td>\n",
       "      <td>delivered</td>\n",
       "      <td>2018-01-14 14:33:31</td>\n",
       "      <td>216.87</td>\n",
       "      <td>3818d81c6709e39d06b2738a8d3a2474</td>\n",
       "      <td>35661</td>\n",
       "      <td>Para De Minas</td>\n",
       "      <td>MG</td>\n",
       "    </tr>\n",
       "    <tr>\n",
       "      <th>3</th>\n",
       "      <td>00024acbcdf0a6daa1e931b038114c75</td>\n",
       "      <td>delivered</td>\n",
       "      <td>2018-08-08 10:00:35</td>\n",
       "      <td>25.78</td>\n",
       "      <td>af861d436cfc08b2c2ddefd0ba074622</td>\n",
       "      <td>12952</td>\n",
       "      <td>Atibaia</td>\n",
       "      <td>SP</td>\n",
       "    </tr>\n",
       "    <tr>\n",
       "      <th>4</th>\n",
       "      <td>00042b26cf59d7ce69dfabb4e55b4fd9</td>\n",
       "      <td>delivered</td>\n",
       "      <td>2017-02-04 13:57:51</td>\n",
       "      <td>218.04</td>\n",
       "      <td>64b576fb70d441e8f1b2d7d446e483c5</td>\n",
       "      <td>13226</td>\n",
       "      <td>Varzea Paulista</td>\n",
       "      <td>SP</td>\n",
       "    </tr>\n",
       "  </tbody>\n",
       "</table>\n",
       "</div>"
      ],
      "text/plain": [
       "                           order_id order_status order_purchase_timestamp  \\\n",
       "0  00010242fe8c5a6d1ba2dd792cb16214    delivered      2017-09-13 08:59:02   \n",
       "1  00018f77f2f0320c557190d7a144bdd3    delivered      2017-04-26 10:53:06   \n",
       "2  000229ec398224ef6ca0657da4fc703e    delivered      2018-01-14 14:33:31   \n",
       "3  00024acbcdf0a6daa1e931b038114c75    delivered      2018-08-08 10:00:35   \n",
       "4  00042b26cf59d7ce69dfabb4e55b4fd9    delivered      2017-02-04 13:57:51   \n",
       "\n",
       "   payment_value                customer_unique_id  customer_zip_code_prefix  \\\n",
       "0          72.19  871766c5855e863f6eccc05f988b23cb                     28013   \n",
       "1         259.83  eb28e67c4c0b83846050ddfb8a35d051                     15775   \n",
       "2         216.87  3818d81c6709e39d06b2738a8d3a2474                     35661   \n",
       "3          25.78  af861d436cfc08b2c2ddefd0ba074622                     12952   \n",
       "4         218.04  64b576fb70d441e8f1b2d7d446e483c5                     13226   \n",
       "\n",
       "           customer_city customer_state  \n",
       "0  Campos Dos Goytacazes             RJ  \n",
       "1        Santa Fe Do Sul             SP  \n",
       "2          Para De Minas             MG  \n",
       "3                Atibaia             SP  \n",
       "4        Varzea Paulista             SP  "
      ]
     },
     "execution_count": 53,
     "metadata": {},
     "output_type": "execute_result"
    }
   ],
   "source": [
    "Olist_db.head()"
   ]
  },
  {
   "cell_type": "code",
   "execution_count": 54,
   "metadata": {},
   "outputs": [
    {
     "name": "stderr",
     "output_type": "stream",
     "text": [
      "C:\\Users\\acer\\AppData\\Local\\Temp\\ipykernel_12832\\3243591887.py:1: SettingWithCopyWarning: \n",
      "A value is trying to be set on a copy of a slice from a DataFrame.\n",
      "Try using .loc[row_indexer,col_indexer] = value instead\n",
      "\n",
      "See the caveats in the documentation: https://pandas.pydata.org/pandas-docs/stable/user_guide/indexing.html#returning-a-view-versus-a-copy\n",
      "  Olist_db['order_purchase_date'] = Olist_db.order_purchase_timestamp.apply(lambda x: pd.to_datetime(x, format=\"%Y-%m-%d\"))\n"
     ]
    }
   ],
   "source": [
    "Olist_db['order_purchase_date'] = Olist_db.order_purchase_timestamp.apply(lambda x: pd.to_datetime(x, format=\"%Y-%m-%d\"))"
   ]
  },
  {
   "cell_type": "code",
   "execution_count": 55,
   "metadata": {},
   "outputs": [
    {
     "data": {
      "text/html": [
       "<div>\n",
       "<style scoped>\n",
       "    .dataframe tbody tr th:only-of-type {\n",
       "        vertical-align: middle;\n",
       "    }\n",
       "\n",
       "    .dataframe tbody tr th {\n",
       "        vertical-align: top;\n",
       "    }\n",
       "\n",
       "    .dataframe thead th {\n",
       "        text-align: right;\n",
       "    }\n",
       "</style>\n",
       "<table border=\"1\" class=\"dataframe\">\n",
       "  <thead>\n",
       "    <tr style=\"text-align: right;\">\n",
       "      <th></th>\n",
       "      <th>order_id</th>\n",
       "      <th>order_status</th>\n",
       "      <th>order_purchase_timestamp</th>\n",
       "      <th>payment_value</th>\n",
       "      <th>customer_unique_id</th>\n",
       "      <th>customer_zip_code_prefix</th>\n",
       "      <th>customer_city</th>\n",
       "      <th>customer_state</th>\n",
       "      <th>order_purchase_date</th>\n",
       "    </tr>\n",
       "  </thead>\n",
       "  <tbody>\n",
       "    <tr>\n",
       "      <th>0</th>\n",
       "      <td>00010242fe8c5a6d1ba2dd792cb16214</td>\n",
       "      <td>delivered</td>\n",
       "      <td>2017-09-13 08:59:02</td>\n",
       "      <td>72.19</td>\n",
       "      <td>871766c5855e863f6eccc05f988b23cb</td>\n",
       "      <td>28013</td>\n",
       "      <td>Campos Dos Goytacazes</td>\n",
       "      <td>RJ</td>\n",
       "      <td>2017-09-13 08:59:02</td>\n",
       "    </tr>\n",
       "    <tr>\n",
       "      <th>1</th>\n",
       "      <td>00018f77f2f0320c557190d7a144bdd3</td>\n",
       "      <td>delivered</td>\n",
       "      <td>2017-04-26 10:53:06</td>\n",
       "      <td>259.83</td>\n",
       "      <td>eb28e67c4c0b83846050ddfb8a35d051</td>\n",
       "      <td>15775</td>\n",
       "      <td>Santa Fe Do Sul</td>\n",
       "      <td>SP</td>\n",
       "      <td>2017-04-26 10:53:06</td>\n",
       "    </tr>\n",
       "    <tr>\n",
       "      <th>2</th>\n",
       "      <td>000229ec398224ef6ca0657da4fc703e</td>\n",
       "      <td>delivered</td>\n",
       "      <td>2018-01-14 14:33:31</td>\n",
       "      <td>216.87</td>\n",
       "      <td>3818d81c6709e39d06b2738a8d3a2474</td>\n",
       "      <td>35661</td>\n",
       "      <td>Para De Minas</td>\n",
       "      <td>MG</td>\n",
       "      <td>2018-01-14 14:33:31</td>\n",
       "    </tr>\n",
       "    <tr>\n",
       "      <th>3</th>\n",
       "      <td>00024acbcdf0a6daa1e931b038114c75</td>\n",
       "      <td>delivered</td>\n",
       "      <td>2018-08-08 10:00:35</td>\n",
       "      <td>25.78</td>\n",
       "      <td>af861d436cfc08b2c2ddefd0ba074622</td>\n",
       "      <td>12952</td>\n",
       "      <td>Atibaia</td>\n",
       "      <td>SP</td>\n",
       "      <td>2018-08-08 10:00:35</td>\n",
       "    </tr>\n",
       "    <tr>\n",
       "      <th>4</th>\n",
       "      <td>00042b26cf59d7ce69dfabb4e55b4fd9</td>\n",
       "      <td>delivered</td>\n",
       "      <td>2017-02-04 13:57:51</td>\n",
       "      <td>218.04</td>\n",
       "      <td>64b576fb70d441e8f1b2d7d446e483c5</td>\n",
       "      <td>13226</td>\n",
       "      <td>Varzea Paulista</td>\n",
       "      <td>SP</td>\n",
       "      <td>2017-02-04 13:57:51</td>\n",
       "    </tr>\n",
       "  </tbody>\n",
       "</table>\n",
       "</div>"
      ],
      "text/plain": [
       "                           order_id order_status order_purchase_timestamp  \\\n",
       "0  00010242fe8c5a6d1ba2dd792cb16214    delivered      2017-09-13 08:59:02   \n",
       "1  00018f77f2f0320c557190d7a144bdd3    delivered      2017-04-26 10:53:06   \n",
       "2  000229ec398224ef6ca0657da4fc703e    delivered      2018-01-14 14:33:31   \n",
       "3  00024acbcdf0a6daa1e931b038114c75    delivered      2018-08-08 10:00:35   \n",
       "4  00042b26cf59d7ce69dfabb4e55b4fd9    delivered      2017-02-04 13:57:51   \n",
       "\n",
       "   payment_value                customer_unique_id  customer_zip_code_prefix  \\\n",
       "0          72.19  871766c5855e863f6eccc05f988b23cb                     28013   \n",
       "1         259.83  eb28e67c4c0b83846050ddfb8a35d051                     15775   \n",
       "2         216.87  3818d81c6709e39d06b2738a8d3a2474                     35661   \n",
       "3          25.78  af861d436cfc08b2c2ddefd0ba074622                     12952   \n",
       "4         218.04  64b576fb70d441e8f1b2d7d446e483c5                     13226   \n",
       "\n",
       "           customer_city customer_state order_purchase_date  \n",
       "0  Campos Dos Goytacazes             RJ 2017-09-13 08:59:02  \n",
       "1        Santa Fe Do Sul             SP 2017-04-26 10:53:06  \n",
       "2          Para De Minas             MG 2018-01-14 14:33:31  \n",
       "3                Atibaia             SP 2018-08-08 10:00:35  \n",
       "4        Varzea Paulista             SP 2017-02-04 13:57:51  "
      ]
     },
     "execution_count": 55,
     "metadata": {},
     "output_type": "execute_result"
    }
   ],
   "source": [
    "Olist_db.head()"
   ]
  },
  {
   "cell_type": "markdown",
   "metadata": {},
   "source": [
    "# 2. Tính RFM"
   ]
  },
  {
   "cell_type": "code",
   "execution_count": null,
   "metadata": {},
   "outputs": [],
   "source": [
    "Olist_db = pd.read_csv(r\"D:\\DataWarehouse and DataMining\\DataMining\\BaoCaoNhom\\Olist_Master.csv\")\n",
    "Olist_db.head()"
   ]
  },
  {
   "cell_type": "markdown",
   "metadata": {},
   "source": [
    "## - Xoá dòng trùng lặp"
   ]
  },
  {
   "cell_type": "code",
   "execution_count": null,
   "metadata": {},
   "outputs": [],
   "source": [
    "df.duplicated().sum()"
   ]
  },
  {
   "cell_type": "code",
   "execution_count": null,
   "metadata": {},
   "outputs": [],
   "source": [
    "df[df.duplicated(keep=False)].sort_values(by=['StockCode','InvoiceNo'] ).head(10)"
   ]
  },
  {
   "cell_type": "code",
   "execution_count": 40,
   "metadata": {},
   "outputs": [],
   "source": [
    "# Removing duplicates\n",
    "df = df.drop_duplicates(keep='first')  "
   ]
  },
  {
   "cell_type": "code",
   "execution_count": null,
   "metadata": {},
   "outputs": [],
   "source": [
    "df.duplicated().sum()"
   ]
  },
  {
   "cell_type": "code",
   "execution_count": null,
   "metadata": {},
   "outputs": [],
   "source": [
    "df.info()"
   ]
  },
  {
   "cell_type": "markdown",
   "metadata": {},
   "source": [
    "## - Xử lý null"
   ]
  },
  {
   "cell_type": "code",
   "execution_count": null,
   "metadata": {},
   "outputs": [],
   "source": [
    "df.isnull().sum()"
   ]
  },
  {
   "cell_type": "code",
   "execution_count": null,
   "metadata": {},
   "outputs": [],
   "source": [
    "df_des_nulls=df[df['Description'].isnull()]\n",
    "df_des_nulls.head(10)"
   ]
  },
  {
   "cell_type": "code",
   "execution_count": null,
   "metadata": {},
   "outputs": [],
   "source": [
    "df_des_nulls.isnull().sum()"
   ]
  },
  {
   "cell_type": "code",
   "execution_count": null,
   "metadata": {},
   "outputs": [],
   "source": [
    "df_cus_nulls = df[df['CustomerID'].isnull()]\n",
    "df_cus_nulls.head(10)"
   ]
  },
  {
   "cell_type": "code",
   "execution_count": null,
   "metadata": {},
   "outputs": [],
   "source": [
    "# Loai bo gia tri null\n",
    "df_not_nulls = df[df['CustomerID'].notna()]\n",
    "df_not_nulls.head(10)"
   ]
  },
  {
   "cell_type": "code",
   "execution_count": null,
   "metadata": {},
   "outputs": [],
   "source": [
    "df_not_nulls.isnull().sum()"
   ]
  },
  {
   "cell_type": "markdown",
   "metadata": {},
   "source": [
    "## - Chuyển đổi dữ liệu về định dạng phù hợp"
   ]
  },
  {
   "cell_type": "code",
   "execution_count": null,
   "metadata": {},
   "outputs": [],
   "source": [
    "df_not_nulls.info()"
   ]
  },
  {
   "cell_type": "code",
   "execution_count": null,
   "metadata": {},
   "outputs": [],
   "source": [
    "print(df_not_nulls['CustomerID'].dtype)\n",
    "print(df_not_nulls['CustomerID'].unique())"
   ]
  },
  {
   "cell_type": "code",
   "execution_count": null,
   "metadata": {},
   "outputs": [],
   "source": [
    "# Chuyển đổi CustomerID từ float sang int\n",
    "df_not_nulls['CustomerID'] = df_not_nulls['CustomerID'].astype(int)"
   ]
  },
  {
   "cell_type": "code",
   "execution_count": null,
   "metadata": {},
   "outputs": [],
   "source": [
    "print(df_not_nulls['CustomerID'].dtype)\n",
    "print(df_not_nulls['CustomerID'].unique())"
   ]
  },
  {
   "cell_type": "markdown",
   "metadata": {},
   "source": [
    "## - Xoá các đơn hàng bị huỷ"
   ]
  },
  {
   "cell_type": "code",
   "execution_count": null,
   "metadata": {},
   "outputs": [],
   "source": [
    "df_not_nulls.info()"
   ]
  },
  {
   "cell_type": "code",
   "execution_count": null,
   "metadata": {},
   "outputs": [],
   "source": [
    "df_not_nulls['InvoiceNo'].str.contains('C').sum()"
   ]
  },
  {
   "cell_type": "code",
   "execution_count": 55,
   "metadata": {},
   "outputs": [],
   "source": [
    "df_not_nulls=df_not_nulls[~df_not_nulls['InvoiceNo'].str.contains('C', na = False)]"
   ]
  },
  {
   "cell_type": "code",
   "execution_count": null,
   "metadata": {},
   "outputs": [],
   "source": [
    "df_not_nulls.nunique()"
   ]
  },
  {
   "cell_type": "code",
   "execution_count": null,
   "metadata": {},
   "outputs": [],
   "source": [
    "df_not_nulls.info()"
   ]
  },
  {
   "cell_type": "markdown",
   "metadata": {},
   "source": [
    "## - Xoá các đơn hàng có giá trị = 0"
   ]
  },
  {
   "cell_type": "code",
   "execution_count": null,
   "metadata": {},
   "outputs": [],
   "source": [
    "print(\"Negative value in Quantity is:\",(df_not_nulls.Quantity<0).sum())\n",
    "print(\"Negative value in Price is:\",(df_not_nulls.UnitPrice<0).sum())"
   ]
  },
  {
   "cell_type": "code",
   "execution_count": null,
   "metadata": {},
   "outputs": [],
   "source": [
    "UnitPrice = 0.0\n",
    "print(df_not_nulls[df_not_nulls['UnitPrice'] == UnitPrice ])"
   ]
  },
  {
   "cell_type": "code",
   "execution_count": 60,
   "metadata": {},
   "outputs": [],
   "source": [
    "# df_not_nulls = df_not_nulls[df_not_nulls['UnitPrice'] != 0]"
   ]
  },
  {
   "cell_type": "code",
   "execution_count": 61,
   "metadata": {},
   "outputs": [],
   "source": [
    "# UnitPrice = 0.0\n",
    "# print(df_not_nulls[df_not_nulls['UnitPrice'] == UnitPrice ])"
   ]
  },
  {
   "cell_type": "markdown",
   "metadata": {},
   "source": [
    "## - Xử lý outlier"
   ]
  },
  {
   "cell_type": "code",
   "execution_count": 62,
   "metadata": {},
   "outputs": [],
   "source": [
    "#defining funcation to remove outliers w.r.t its thresholds\n",
    "def outlier_thresholds(dataframe, variable):\n",
    "    quartile1 = dataframe[variable].quantile(0.01)\n",
    "    quartile3 = dataframe[variable].quantile(0.99)\n",
    "    interquantile_range = quartile3 - quartile1\n",
    "    up_limit = quartile3 + 1.5 * interquantile_range\n",
    "    low_limit = quartile1 - 1.5 * interquantile_range\n",
    "    return up_limit, low_limit\n",
    "\n",
    "def replace_with_threshold(dataframe, variable):\n",
    "    up_limit, low_limit = outlier_thresholds(dataframe, variable)\n",
    "    # dataframe.loc[(dataframe[variable] < low_limit), variable] = low_limit\n",
    "    dataframe.loc[(dataframe[variable] > up_limit), variable] = up_limit"
   ]
  },
  {
   "cell_type": "code",
   "execution_count": null,
   "metadata": {},
   "outputs": [],
   "source": [
    "# Observing them before removing outliers.\n",
    "f, ax = plt.subplots(2,1, figsize = (20,5))\n",
    "col_list = [\"Quantity\",\"UnitPrice\"]\n",
    "for i in range(0,2):\n",
    "    ax[i].boxplot(df_not_nulls[col_list[i]],flierprops = dict(marker = \"s\", markerfacecolor = \"red\"), vert = 0)\n",
    "plt.show()"
   ]
  },
  {
   "cell_type": "code",
   "execution_count": null,
   "metadata": {},
   "outputs": [],
   "source": [
    "# Applying the functions for remove the outlier.\n",
    "replace_with_threshold(df_not_nulls, \"Quantity\")\n",
    "replace_with_threshold(df_not_nulls, \"UnitPrice\")"
   ]
  },
  {
   "cell_type": "code",
   "execution_count": null,
   "metadata": {},
   "outputs": [],
   "source": [
    "# Observing them after removing outliers.\n",
    "f, ax = plt.subplots(2,1, figsize = (20,5))\n",
    "for i in range(0,2):\n",
    "    ax[i].boxplot(df_not_nulls[col_list[i]],flierprops = dict(marker = \"s\", markerfacecolor = \"red\"), vert = 0)\n",
    "plt.show()"
   ]
  },
  {
   "cell_type": "markdown",
   "metadata": {},
   "source": [
    "# 2. Tính R,F,M"
   ]
  },
  {
   "cell_type": "code",
   "execution_count": null,
   "metadata": {},
   "outputs": [],
   "source": [
    "import pandas as pd\n",
    "import datetime\n",
    "\n",
    "# 1. Calculate Recency (R)\n",
    "# Get the maximum transaction date and add one day\n",
    "current_date = max(df_not_nulls['InvoiceDate']) + datetime.timedelta(days=1)\n",
    "\n",
    "# 2. Calculate Total_Price\n",
    "df_not_nulls['TotalPay'] = df_not_nulls['Quantity'] * df_not_nulls['UnitPrice']\n",
    "\n",
    "\n",
    "\n",
    "# 3. Group by CustomerID to calculate R, F, M\n",
    "rfm_df = df_not_nulls.groupby(['CustomerID']).agg(\n",
    "    Recency=('InvoiceDate', lambda x: (current_date - x.max()).days),  # Recency\n",
    "    Frequency=('InvoiceNo', lambda x: x.nunique()),  # Frequency\n",
    "    Monetary=('TotalPay', lambda x: x.sum())  # Monetary\n",
    ").reset_index()\n",
    "\n",
    "# Display the RFM DataFrame\n",
    "print(rfm_df.head())"
   ]
  },
  {
   "cell_type": "code",
   "execution_count": null,
   "metadata": {},
   "outputs": [],
   "source": [
    "current_date"
   ]
  },
  {
   "cell_type": "code",
   "execution_count": null,
   "metadata": {},
   "outputs": [],
   "source": [
    "# Ve phan phoi de kiem tra\n",
    "# Tạo đồ thị\n",
    "fig, ax = plt.subplots(1, 3, figsize=(12, 4))\n",
    "\n",
    "# Sử dụng sns.histplot để thay thế sns.distplot\n",
    "sns.histplot(rfm_df['Recency'], kde=True, ax=ax[0])\n",
    "ax[0].set_title('Recency Distribution')\n",
    "\n",
    "sns.histplot(rfm_df['Frequency'], kde=True, ax=ax[1])\n",
    "ax[1].set_title('Frequency Distribution')\n",
    "\n",
    "sns.histplot(rfm_df['Monetary'], kde=True, ax=ax[2])\n",
    "ax[2].set_title('Monetary Distribution')\n",
    "\n",
    "plt.tight_layout()\n",
    "plt.show()"
   ]
  },
  {
   "cell_type": "markdown",
   "metadata": {},
   "source": [
    "## - Xử lý outlier"
   ]
  },
  {
   "cell_type": "code",
   "execution_count": 69,
   "metadata": {},
   "outputs": [],
   "source": [
    "# import matplotlib.pyplot as plt\n",
    "\n",
    "# def plot_boxplot(df, ft):\n",
    "#     plt.figure(figsize=(12, 6))\n",
    "\n",
    "#     # Vẽ boxplot nằm ngang\n",
    "#     plt.subplot(1, 2, 1)\n",
    "#     df.boxplot(column=[ft], vert=False)\n",
    "#     plt.title(f'Boxplot of {ft}')\n",
    "#     plt.grid(False)\n",
    "\n",
    "#     # Vẽ histogram\n",
    "#     plt.subplot(1, 2, 2)\n",
    "#     df[ft].hist(bins=30, edgecolor='black')\n",
    "#     plt.title(f'Histogram of {ft}')\n",
    "#     plt.xlabel(ft)\n",
    "#     plt.ylabel('Frequency')\n",
    "\n",
    "#     plt.tight_layout()\n",
    "#     plt.show()"
   ]
  },
  {
   "cell_type": "code",
   "execution_count": 70,
   "metadata": {},
   "outputs": [],
   "source": [
    "# plot_boxplot(rfm_df, 'Recency')"
   ]
  },
  {
   "cell_type": "code",
   "execution_count": 71,
   "metadata": {},
   "outputs": [],
   "source": [
    "# plot_boxplot(rfm_df, 'Frequency')"
   ]
  },
  {
   "cell_type": "code",
   "execution_count": 72,
   "metadata": {},
   "outputs": [],
   "source": [
    "# plot_boxplot(rfm_df, 'Monetary')"
   ]
  },
  {
   "cell_type": "code",
   "execution_count": 73,
   "metadata": {},
   "outputs": [],
   "source": [
    "# from typing import Tuple\n",
    "# from sklearn.base import BaseEstimator, TransformerMixin\n",
    "\n",
    "\n",
    "# def find_boxplot_boundaries(\n",
    "#     col: pd.Series, whisker_coeff: float = 1.5\n",
    "# ) -> Tuple[float, float]:\n",
    "#     \"\"\"Findx minimum and maximum in boxplot.\n",
    "\n",
    "#     Args:\n",
    "#         col: a pandas serires of input.\n",
    "#         whisker_coeff: whisker coefficient in box plot\n",
    "#     \"\"\"\n",
    "#     Q1 = col.quantile(0.25)\n",
    "#     Q3 = col.quantile(0.75)\n",
    "#     IQR = Q3 - Q1\n",
    "#     lower = Q1 - whisker_coeff * IQR\n",
    "#     upper = Q3 + whisker_coeff * IQR\n",
    "#     return lower, upper\n",
    "\n",
    "\n",
    "# class BoxplotOutlierClipper(BaseEstimator, TransformerMixin):\n",
    "#     def __init__(self, whisker_coeff: float = 1.5):\n",
    "#         self.whisker = whisker_coeff\n",
    "#         self.lower = None\n",
    "#         self.upper = None\n",
    "\n",
    "#     def fit(self, X: pd.Series):\n",
    "#         self.lower, self.upper = find_boxplot_boundaries(X, self.whisker)\n",
    "#         return self\n",
    "\n",
    "#     def transform(self, X):\n",
    "#         return X.clip(self.lower, self.upper)"
   ]
  },
  {
   "cell_type": "code",
   "execution_count": 74,
   "metadata": {},
   "outputs": [],
   "source": [
    "# # Áp dụng clipping outliers trực tiếp vào cột \"Frequency\" trong rfm_df\n",
    "# rfm_df[\"Frequency\"] = BoxplotOutlierClipper().fit_transform(rfm_df[\"Frequency\"])\n",
    "\n",
    "# # Vẽ histogram và boxplot cho cột \"Frequency\" sau khi xử lý\n",
    "# fig, axes = plt.subplots(nrows=1, ncols=2, figsize=(15, 5))\n",
    "# rfm_df[\"Frequency\"].hist(bins=50, ax=axes[0])\n",
    "# rfm_df[[\"Frequency\"]].boxplot(ax=axes[1], vert=False)\n",
    "# plt.show() "
   ]
  },
  {
   "cell_type": "code",
   "execution_count": 75,
   "metadata": {},
   "outputs": [],
   "source": [
    "# # Áp dụng clipping outliers trực tiếp vào cột \"Monetary\" trong rfm_df\n",
    "# rfm_df[\"Monetary\"] = BoxplotOutlierClipper().fit_transform(rfm_df[\"Monetary\"])\n",
    "\n",
    "# # Vẽ histogram và boxplot cho cột \"Monetary\" sau khi xử lý\n",
    "# fig, axes = plt.subplots(nrows=1, ncols=2, figsize=(15, 5))\n",
    "# rfm_df[\"Monetary\"].hist(bins=50, ax=axes[0])\n",
    "# rfm_df[[\"Monetary\"]].boxplot(ax=axes[1], vert=False)\n",
    "# plt.show() "
   ]
  },
  {
   "cell_type": "code",
   "execution_count": 76,
   "metadata": {},
   "outputs": [],
   "source": [
    "# # Vẽ biểu đồ phân phối\n",
    "# import seaborn as sns\n",
    "# import matplotlib.pyplot as plt\n",
    "\n",
    "# # Giả sử rfm_df là DataFrame của bạn\n",
    "\n",
    "# fig, ax = plt.subplots(1, 3, figsize=(12, 4))\n",
    "\n",
    "# sns.histplot(rfm_df['Recency'], ax=ax[0])\n",
    "# sns.histplot(rfm_df['Frequency'], ax=ax[1])\n",
    "# sns.histplot(rfm_df['Monetary'], ax=ax[2])\n",
    "\n",
    "# plt.show()"
   ]
  },
  {
   "cell_type": "markdown",
   "metadata": {},
   "source": [
    "## - Chuyển về phân phối chuẩn"
   ]
  },
  {
   "cell_type": "code",
   "execution_count": 77,
   "metadata": {},
   "outputs": [],
   "source": [
    "from scipy import stats\n",
    "import numpy as np\n",
    "import pandas as pd\n",
    "import matplotlib.pyplot as plt\n",
    "import seaborn as sns\n",
    "\n",
    "def analyze_skewness(data, column):\n",
    "    # Thiết lập biểu đồ 2x2\n",
    "    fig, ax = plt.subplots(2, 2, figsize=(10, 8))\n",
    "    \n",
    "    # Phân phối gốc\n",
    "    sns.histplot(data[column], kde=True, ax=ax[0, 0])\n",
    "    ax[0, 0].set_title('Original Distribution')\n",
    "    \n",
    "    # Phân phối sau khi log transformation\n",
    "    sns.histplot(np.log(data[column] + 1), kde=True, ax=ax[0, 1])\n",
    "    ax[0, 1].set_title('Log Transformation')\n",
    "    \n",
    "    # Phân phối sau khi square root transformation\n",
    "    sns.histplot(np.sqrt(data[column]), kde=True, ax=ax[1, 0])\n",
    "    ax[1, 0].set_title('Square Root Transformation')\n",
    "    \n",
    "    # Phân phối sau khi box-cox transformation\n",
    "    transformed_data, _ = stats.boxcox(data[column][data[column] > 0])  # Chỉ áp dụng Box-Cox cho các giá trị dương\n",
    "    sns.histplot(transformed_data, kde=True, ax=ax[1, 1])\n",
    "    ax[1, 1].set_title('Box-Cox Transformation')\n",
    "    ax[1, 1].set_xlabel(column)  # Đặt lại tên trục x\n",
    "\n",
    "    \n",
    "    plt.tight_layout()\n",
    "    plt.show()\n",
    "    \n",
    "    # Tính độ lệch skewness cho từng phép biến đổi\n",
    "    print(f\"Original Skewness: {data[column].skew().round(2)}\")\n",
    "    print(f\"Log Transformation Skewness: {np.log(data[column] + 1).skew().round(2)}\")\n",
    "    print(f\"Square Root Transformation Skewness: {np.sqrt(data[column]).skew().round(2)}\")\n",
    "    print(f\"Box-Cox Transformation Skewness: {pd.Series(transformed_data).skew().round(2)}\")"
   ]
  },
  {
   "cell_type": "code",
   "execution_count": null,
   "metadata": {},
   "outputs": [],
   "source": [
    "analyze_skewness(rfm_df, 'Recency')"
   ]
  },
  {
   "cell_type": "code",
   "execution_count": null,
   "metadata": {},
   "outputs": [],
   "source": [
    "analyze_skewness(rfm_df, 'Frequency')"
   ]
  },
  {
   "cell_type": "code",
   "execution_count": null,
   "metadata": {},
   "outputs": [],
   "source": [
    "analyze_skewness(rfm_df, 'Monetary')"
   ]
  },
  {
   "cell_type": "code",
   "execution_count": null,
   "metadata": {},
   "outputs": [],
   "source": [
    "# Tiến hành transform dữ liệu\n",
    "rfm_df.head()"
   ]
  },
  {
   "cell_type": "code",
   "execution_count": null,
   "metadata": {},
   "outputs": [],
   "source": [
    "print(rfm_df[rfm_df['Monetary'] <= 0])"
   ]
  },
  {
   "cell_type": "code",
   "execution_count": 83,
   "metadata": {},
   "outputs": [],
   "source": [
    "rfm_df = rfm_df[rfm_df['Monetary'] > 0]"
   ]
  },
  {
   "cell_type": "code",
   "execution_count": 84,
   "metadata": {},
   "outputs": [],
   "source": [
    "rfm_df_t = pd.DataFrame()\n",
    "rfm_df_t['Recency'] = stats.boxcox(np.sqrt(rfm_df['Recency']))[0]\n",
    "rfm_df_t['Frequency'] = stats.boxcox(rfm_df['Frequency'])[0]\n",
    "rfm_df_t['Monetary'] = stats.boxcox(rfm_df['Monetary'])[0]"
   ]
  },
  {
   "cell_type": "markdown",
   "metadata": {},
   "source": [
    "## - K-Means"
   ]
  },
  {
   "cell_type": "code",
   "execution_count": null,
   "metadata": {},
   "outputs": [],
   "source": [
    "# Tiến hành scale dữ liệu\n",
    "from sklearn.preprocessing import StandardScaler\n",
    "\n",
    "# Tạo một đối tượng StandardScaler\n",
    "scaler = StandardScaler()\n",
    "\n",
    "# Fit và transform dữ liệu\n",
    "rfm_df_t = scaler.fit_transform(rfm_df_t)\n",
    "\n",
    "# Để xem dữ liệu đã transform dưới dạng DataFrame\n",
    "pd.DataFrame(rfm_df_t).head()"
   ]
  },
  {
   "cell_type": "code",
   "execution_count": null,
   "metadata": {},
   "outputs": [],
   "source": [
    "# Đưa dữ liệu vào K means\n",
    "# Chon so cum bang Elbow\n",
    "from sklearn.cluster import KMeans\n",
    "\n",
    "# Khởi tạo dictionary để lưu kết quả\n",
    "sse = {}\n",
    "\n",
    "# Thử nghiệm với số cụm từ 1 đến 11\n",
    "for k in range(1, 11):\n",
    "    # Khởi tạo mô hình KMeans với k cụm\n",
    "    kmeans = KMeans(n_clusters=k, random_state=42)\n",
    "    # Fit mô hình với dữ liệu đã chuẩn hóa\n",
    "    kmeans.fit(rfm_df_t)\n",
    "    # Lưu giá trị inertia (SSE) cho số cụm k\n",
    "    sse[k] = kmeans.inertia_\n",
    "\n",
    "# Vẽ đồ thị Elbow\n",
    "plt.title('The Elbow Method')\n",
    "plt.xlabel('k')  # Số cụm\n",
    "plt.ylabel('SSE')  # Sum of Squared Errors\n",
    "sns.pointplot(x=list(sse.keys()), y=list(sse.values()))\n",
    "plt.show()"
   ]
  },
  {
   "cell_type": "code",
   "execution_count": null,
   "metadata": {},
   "outputs": [],
   "source": [
    "from sklearn.metrics import silhouette_score\n",
    "range_k = range(2, 11)  # Kiểm tra từ 2 đến 10 cụm\n",
    "silhouette_scores = []\n",
    "for k in range_k:\n",
    "    kmeans = KMeans(n_clusters=k, random_state=42)\n",
    "    cluster_labels = kmeans.fit_predict(rfm_df_t)\n",
    "    silhouette_avg = silhouette_score(rfm_df_t, cluster_labels)\n",
    "    silhouette_scores.append(silhouette_avg)\n",
    "plt.figure(figsize=(10, 5))\n",
    "plt.plot(range_k, silhouette_scores, marker='o')\n",
    "plt.title('Silhouette Score for Optimal k')\n",
    "plt.xlabel('Number of Clusters (k)')\n",
    "plt.ylabel('Silhouette Score')\n",
    "plt.xticks(range_k)\n",
    "plt.grid()\n",
    "plt.show()"
   ]
  },
  {
   "cell_type": "code",
   "execution_count": null,
   "metadata": {},
   "outputs": [],
   "source": [
    "import numpy as np\n",
    "import matplotlib.pyplot as plt\n",
    "from mpl_toolkits.mplot3d import Axes3D\n",
    "from sklearn.cluster import KMeans\n",
    "from sklearn.metrics import silhouette_samples\n",
    "\n",
    "# Giả sử bạn đã chuẩn hóa dữ liệu và biến rfm_df_t có kích thước (n_samples, 3)\n",
    "for i, k in enumerate([2,3,4]):\n",
    "    fig = plt.figure(figsize=(18, 7))\n",
    "    \n",
    "    # Run the KMeans algorithm\n",
    "    km = KMeans(n_clusters=k, random_state=42)\n",
    "    labels = km.fit_predict(rfm_df_t)\n",
    "    centroids = km.cluster_centers_\n",
    "\n",
    "    # Get silhouette samples\n",
    "    silhouette_vals = silhouette_samples(rfm_df_t, labels)\n",
    "\n",
    "    # Silhouette plot\n",
    "    ax1 = fig.add_subplot(121)\n",
    "    y_ticks = []\n",
    "    y_lower, y_upper = 0, 0\n",
    "    for cluster in np.unique(labels):\n",
    "        cluster_silhouette_vals = silhouette_vals[labels == cluster]\n",
    "        cluster_silhouette_vals.sort()\n",
    "        y_upper += len(cluster_silhouette_vals)\n",
    "        ax1.barh(range(y_lower, y_upper), cluster_silhouette_vals, edgecolor='none', height=1)\n",
    "        ax1.text(-0.03, (y_lower + y_upper) / 2, str(cluster + 1))\n",
    "        y_lower += len(cluster_silhouette_vals)\n",
    "\n",
    "    # Get the average silhouette score and plot it\n",
    "    avg_score = np.mean(silhouette_vals)\n",
    "    ax1.axvline(avg_score, linestyle='--', linewidth=2, color='green')\n",
    "    ax1.set_yticks([])\n",
    "    ax1.set_xlim([-0.1, 1])\n",
    "    ax1.set_xlabel('Silhouette coefficient values')\n",
    "    ax1.set_ylabel('Cluster labels')\n",
    "    ax1.set_title('Silhouette plot for the various clusters', y=1.02)\n",
    "\n",
    "    # Scatter plot of data colored with labels in 3D\n",
    "    ax2 = fig.add_subplot(122, projection='3d')\n",
    "    ax2.scatter(rfm_df_t[:, 0], rfm_df_t[:, 1], rfm_df_t[:, 2], c=labels, cmap='viridis')\n",
    "    ax2.scatter(centroids[:, 0], centroids[:, 1], centroids[:, 2], marker='*', c='r', s=250)\n",
    "    ax2.set_xlabel('Feature 1')  # Cập nhật nhãn nếu cần\n",
    "    ax2.set_ylabel('Feature 2')  # Cập nhật nhãn nếu cần\n",
    "    ax2.set_zlabel('Feature 3')  # Cập nhật nhãn nếu cần\n",
    "    ax2.set_title('Visualization of clustered data', y=1.02)\n",
    "    \n",
    "    plt.tight_layout()\n",
    "    plt.suptitle(f'Silhouette analysis using k = {k}',\n",
    "                 fontsize=16, fontweight='semibold', y=1.05)\n",
    "    plt.show()"
   ]
  },
  {
   "cell_type": "code",
   "execution_count": null,
   "metadata": {},
   "outputs": [],
   "source": [
    "model = KMeans(n_clusters=3, random_state=42)\n",
    "model.fit(rfm_df_t)"
   ]
  },
  {
   "cell_type": "code",
   "execution_count": null,
   "metadata": {},
   "outputs": [],
   "source": [
    "# Gán nhãn cluster vào dataframe\n",
    "rfm_df['Cluster'] = model.labels_ \n",
    "\n",
    "# Kiểm tra kích thước\n",
    "print(len(rfm_df), len(model.labels_))"
   ]
  },
  {
   "cell_type": "code",
   "execution_count": null,
   "metadata": {},
   "outputs": [],
   "source": [
    "rfm_df.groupby('Cluster').agg(\n",
    "    {\n",
    "        'Recency':'mean',\n",
    "        'Frequency': 'mean',\n",
    "        'Monetary': 'mean'\n",
    "    }\n",
    ")"
   ]
  },
  {
   "cell_type": "code",
   "execution_count": null,
   "metadata": {},
   "outputs": [],
   "source": [
    "rfm_df.head(10)"
   ]
  },
  {
   "cell_type": "code",
   "execution_count": null,
   "metadata": {},
   "outputs": [],
   "source": [
    "import matplotlib.pyplot as plt\n",
    "import seaborn as sns\n",
    "from sklearn.preprocessing import MinMaxScaler\n",
    "\n",
    "# Chọn các thuộc tính bạn muốn tính giá trị trung bình\n",
    "features = ['Recency', 'Frequency', 'Monetary']\n",
    "\n",
    "# Chuẩn hóa các thuộc tính\n",
    "scaler = MinMaxScaler()\n",
    "rfm_df[features] = scaler.fit_transform(rfm_df[features])\n",
    "# Tính tỷ lệ phần trăm số lượng mẫu trong từng cụm\n",
    "cluster_counts = rfm_df['Cluster'].value_counts(normalize=True)\n",
    "\n",
    "# Tính giá trị trung bình của các thuộc tính theo từng cụm\n",
    "mean_values = rfm_df.groupby('Cluster')[features].mean()\n",
    "\n",
    "# Tạo biểu đồ\n",
    "fig, ax1 = plt.subplots(figsize=(10, 6))\n",
    "\n",
    "# Bar chart: phân phối các cụm\n",
    "colors = ['#FF6347', '#4682B4', '#32CD32', '#FFD700']  # Màu sắc cho từng cụm\n",
    "ax1.bar(cluster_counts.index, cluster_counts.values, color=colors, alpha=0.6, label='Cluster Distribution')\n",
    "# Đặt tiêu đề và nhãn cho trục x, y\n",
    "ax1.set_title('Cluster Distribution and Average Feature Values')\n",
    "ax1.set_xlabel('Cluster')\n",
    "ax1.set_ylabel('Percentage', color='blue')\n",
    "ax1.set_xticks(cluster_counts.index)  # Đảm bảo các nhãn trên trục X đúng\n",
    "ax1.set_xticklabels(cluster_counts.index, rotation=0)\n",
    "ax1.tick_params(axis='y', labelcolor='blue')\n",
    "# Tạo trục y thứ hai để vẽ line chart\n",
    "ax2 = ax1.twinx()\n",
    "for feature in features:\n",
    "    ax2.plot(mean_values.index, mean_values[feature], marker='o', label=feature)\n",
    "# Đặt nhãn và màu sắc cho trục y thứ hai\n",
    "ax2.set_ylabel('Average Scaled Value', color='green')\n",
    "ax2.tick_params(axis='y', labelcolor='green')\n",
    "# Thêm legend\n",
    "ax2.legend(title='Features', loc='upper left')\n",
    "# Hiển thị biểu đồ\n",
    "plt.tight_layout()\n",
    "plt.show()\n"
   ]
  },
  {
   "cell_type": "code",
   "execution_count": null,
   "metadata": {},
   "outputs": [],
   "source": [
    "# grouping the data in accorandance with each cluster seperately\n",
    "one = rfm_df[rfm_df[\"Cluster\"]==0]\n",
    "two = rfm_df[rfm_df[\"Cluster\"]==1]\n",
    "three = rfm_df[rfm_df[\"Cluster\"]==2]\n",
    "four = rfm_df[rfm_df[\"Cluster\"]==3]\n",
    "\n",
    "#Checking the quality of clustering in the data set\n",
    "plt.figure(figsize=(10,5))\n",
    "ax = plt.axes()\n",
    "ax.set_facecolor(\"#cd5c5c\")\n",
    "plt.scatter(one[\"Recency\"],one[\"Frequency\"],color='green')\n",
    "plt.scatter(two[\"Recency\"],two[\"Frequency\"],color='red')\n",
    "plt.scatter(three[\"Recency\"],three[\"Frequency\"],color='grey')\n",
    "plt.scatter(four[\"Recency\"],four[\"Frequency\"],color='blue')\n",
    "plt.scatter(kmeans.cluster_centers_[:,0],kmeans.cluster_centers_[:,1],color=\"yellow\",marker=\"*\",label=\"centroid\")\n",
    "plt.legend()\n",
    "plt.show "
   ]
  },
  {
   "cell_type": "code",
   "execution_count": null,
   "metadata": {},
   "outputs": [],
   "source": [
    "from sklearn.metrics import silhouette_score\n",
    "print(\"Silhouette score :\",silhouette_score(rfm_df, kmeans.labels_, metric='euclidean'))"
   ]
  },
  {
   "cell_type": "markdown",
   "metadata": {},
   "source": [
    "## - Hirarchical"
   ]
  },
  {
   "cell_type": "code",
   "execution_count": 97,
   "metadata": {},
   "outputs": [],
   "source": [
    "from sklearn.cluster import AgglomerativeClustering\n",
    "from scipy.cluster.hierarchy import fcluster"
   ]
  },
  {
   "cell_type": "code",
   "execution_count": 98,
   "metadata": {},
   "outputs": [],
   "source": [
    "columns = ['Recency', 'Frequency', 'Monetary']\n",
    "df_HR = rfm_df[columns]"
   ]
  },
  {
   "cell_type": "code",
   "execution_count": null,
   "metadata": {},
   "outputs": [],
   "source": [
    "scaler = StandardScaler()\n",
    "data_scaled = scaler.fit_transform(df_HR)\n",
    "scaled_df_HR = pd.DataFrame(data_scaled, columns=df_HR.columns)\n",
    "print(scaled_df_HR.head())"
   ]
  },
  {
   "cell_type": "code",
   "execution_count": null,
   "metadata": {},
   "outputs": [],
   "source": [
    "import matplotlib.pyplot as plt\n",
    "from scipy.cluster.hierarchy import dendrogram, linkage\n",
    "\n",
    "# Tính toán các liên kết phân cấp\n",
    "Z = linkage(rfm_df_t, method='ward')\n",
    "\n",
    "# Vẽ dendrogram\n",
    "plt.figure(figsize=(10, 7))\n",
    "dendrogram(Z)\n",
    "plt.title('Dendrogram for Hierarchical Clustering')\n",
    "plt.xlabel('Index')\n",
    "plt.ylabel('Distance')\n",
    "plt.show()"
   ]
  },
  {
   "cell_type": "code",
   "execution_count": null,
   "metadata": {},
   "outputs": [],
   "source": [
    "model = AgglomerativeClustering(n_clusters=2, linkage='ward')\n",
    "rfm_df['Cluster_Hierarchical'] = model.fit_predict(rfm_df_t)\n",
    "print(\"Kết quả phân cụm:\\n\", rfm_df[['Cluster_Hierarchical']].value_counts())"
   ]
  },
  {
   "cell_type": "code",
   "execution_count": null,
   "metadata": {},
   "outputs": [],
   "source": [
    "print(rfm_df.head())  # Kiểm tra các dòng đầu tiên trong DataFrame để đảm bảo dữ liệu đúng\n",
    "print(rfm_df.shape)  # Kiểm tra số lượng cột và dòng trong DataFrame\n"
   ]
  },
  {
   "cell_type": "code",
   "execution_count": null,
   "metadata": {},
   "outputs": [],
   "source": [
    "fig = plt.figure(figsize=(10, 8))\n",
    "ax = fig.add_subplot(111, projection='3d')\n",
    "\n",
    "# Kiểm tra các cột bạn muốn vẽ\n",
    "sc = ax.scatter(\n",
    "    rfm_df.iloc[:, 0], rfm_df.iloc[:, 1], rfm_df.iloc[:, 2],  # Các cột cho trục X, Y, Z\n",
    "    c=rfm_df['Cluster_Hierarchical'], cmap='viridis', s=50  # Dùng cột phân cụm làm màu\n",
    ")\n",
    "\n",
    "# Cài đặt tiêu đề và nhãn cho các trục\n",
    "ax.set_title('Hierarchical Clustering Results (PCA Reduced 3D)', fontsize=16)\n",
    "ax.set_xlabel('Principal Component 1')\n",
    "ax.set_ylabel('Principal Component 2')\n",
    "ax.set_zlabel('Principal Component 3')\n",
    "\n",
    "# Hiển thị đồ thị\n",
    "plt.show()\n"
   ]
  },
  {
   "cell_type": "code",
   "execution_count": null,
   "metadata": {},
   "outputs": [],
   "source": [
    "fig = plt.figure(figsize=(10, 8))\n",
    "ax = fig.add_subplot(111, projection='3d')\n",
    "sc = ax.scatter(\n",
    "    rfm_df.iloc[:, 0], rfm_df.iloc[:, 1], rfm_df.iloc[:, 2], \n",
    "    c=rfm_df['Cluster_Hierarchical'], cmap='viridis', s=50\n",
    ")\n",
    "ax.set_title('Hierarchical Clustering Results (PCA Reduced 3D)', fontsize=16)\n",
    "ax.set_xlabel('Principal Component 1')\n",
    "ax.set_ylabel('Principal Component 2')\n",
    "ax.set_zlabel('Principal Component 3')\n",
    "plt.show()"
   ]
  }
 ],
 "metadata": {
  "kernelspec": {
   "display_name": "venv",
   "language": "python",
   "name": "python3"
  },
  "language_info": {
   "codemirror_mode": {
    "name": "ipython",
    "version": 3
   },
   "file_extension": ".py",
   "mimetype": "text/x-python",
   "name": "python",
   "nbconvert_exporter": "python",
   "pygments_lexer": "ipython3",
   "version": "3.12.6"
  }
 },
 "nbformat": 4,
 "nbformat_minor": 2
}
